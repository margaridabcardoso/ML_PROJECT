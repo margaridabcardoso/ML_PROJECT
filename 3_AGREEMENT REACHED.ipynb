{
 "cells": [
  {
   "cell_type": "markdown",
   "metadata": {},
   "source": [
    "<div style=\"background-color: darkslategray; color: white; padding: 15px; border-radius: 8px;\">\n",
    "    <center><h1 style=\"font-family: Arial, sans-serif;\">Deciding on Compensation Benefits</h1></center>\n",
    "    <center><h3 style=\"font-family: Arial, sans-serif;\">Machine Learning Project</h3></center>\n",
    "</div>"
   ]
  },
  {
   "cell_type": "markdown",
   "metadata": {},
   "source": [
    "**<h3>Table of Contents</h3>**\n",
    "* [1. Environment Setup](#1-environment-setup)\n",
    "    * [1.1 Import Libraries](#11-import-libraries)\n",
    "    * [1.2 Import Dataset](#12-import-dataset)\n",
    "    * [1.3 Assumptions](#13-assumptions)\n",
    "\n",
    "* [2. Predicting Agreement Reached](#2-predicting-agreement-reached)\n",
    "    * [2.1 Split the data set](#21-split-the-data-set)\n",
    "    * [2.2 Dealing with class imbalance](#22-dealing-with-class-imbalance)\n",
    "    * [2.3 Models](#23-models)\n",
    "        * [2.3.1 Logistic Regression](#231-logistic-regression)\n",
    "        * [2.3.2 Random Forest](#232-random-forest)\n",
    "        * [2.3.3 XGBoost](#233-xgboost)\n",
    "        * [2.3.4 Perceptron](#234-perceptron)\n",
    "        * [2.3.5 Neural Networks - Multilayer Perceptron](#235-neural-networks---multilayer-perceptron)\n",
    "\n"
   ]
  },
  {
   "cell_type": "markdown",
   "metadata": {},
   "source": [
    "<div class=\"alert alert-block alert-success\">\n",
    "\n",
    "# **1.** Environment Setup\n",
    "\n",
    "<div>"
   ]
  },
  {
   "cell_type": "markdown",
   "metadata": {},
   "source": [
    "## **1.1** Import Libraries"
   ]
  },
  {
   "cell_type": "code",
   "execution_count": null,
   "metadata": {},
   "outputs": [],
   "source": [
    "from functions import *"
   ]
  },
  {
   "cell_type": "markdown",
   "metadata": {},
   "source": [
    "## **1.2** Import Dataset"
   ]
  },
  {
   "cell_type": "code",
   "execution_count": 41,
   "metadata": {},
   "outputs": [],
   "source": [
    "X = pd.read_csv('X.csv')\n",
    "y = pd.read_csv('y.csv')"
   ]
  },
  {
   "cell_type": "markdown",
   "metadata": {},
   "source": [
    "## **1.3** Assumptions"
   ]
  },
  {
   "cell_type": "code",
   "execution_count": 42,
   "metadata": {},
   "outputs": [],
   "source": [
    "# scaler = MinMaxScaler()\n",
    "scaler = PowerTransformer(method='yeo-johnson', standardize=True)"
   ]
  },
  {
   "cell_type": "markdown",
   "metadata": {},
   "source": [
    "<div class=\"alert alert-block alert-success\">\n",
    "\n",
    "# **2.** Predicting Agreement Reached\n",
    "\n",
    "<div>"
   ]
  },
  {
   "cell_type": "code",
   "execution_count": 43,
   "metadata": {},
   "outputs": [],
   "source": [
    "y_2 = X.set_index('Claim Identifier')['Agreement Reached']  # Target variable with claim identifier as index\n",
    "X_2 = X.set_index('Claim Identifier').drop(columns=['Agreement Reached'])  # Features with claim identifier as index"
   ]
  },
  {
   "cell_type": "code",
   "execution_count": 44,
   "metadata": {},
   "outputs": [
    {
     "data": {
      "text/plain": [
       "Agreement Reached\n",
       "0.0    544885\n",
       "1.0     26641\n",
       "Name: count, dtype: int64"
      ]
     },
     "execution_count": 44,
     "metadata": {},
     "output_type": "execute_result"
    }
   ],
   "source": [
    "y_2.value_counts()"
   ]
  },
  {
   "cell_type": "markdown",
   "metadata": {},
   "source": [
    "## 2.1 Split the data set"
   ]
  },
  {
   "cell_type": "code",
   "execution_count": null,
   "metadata": {},
   "outputs": [
    {
     "name": "stderr",
     "output_type": "stream",
     "text": [
      "/Users/margaridabravocardoso/Desktop/final/15_12/functions_final.py:1007: FutureWarning: Downcasting behavior in `replace` is deprecated and will be removed in a future version. To retain the old behavior, explicitly call `result.infer_objects(copy=False)`. To opt-in to the future behavior, set `pd.set_option('future.no_silent_downcasting', True)`\n",
      "  new_df[col] = new_df[col].replace(['Y', 'N'], [1, 0]).astype(int)\n",
      "/Users/margaridabravocardoso/Desktop/final/15_12/functions_final.py:1007: FutureWarning: Downcasting behavior in `replace` is deprecated and will be removed in a future version. To retain the old behavior, explicitly call `result.infer_objects(copy=False)`. To opt-in to the future behavior, set `pd.set_option('future.no_silent_downcasting', True)`\n",
      "  new_df[col] = new_df[col].replace(['Y', 'N'], [1, 0]).astype(int)\n",
      "/Users/margaridabravocardoso/Desktop/final/15_12/functions_final.py:1001: FutureWarning: Downcasting behavior in `replace` is deprecated and will be removed in a future version. To retain the old behavior, explicitly call `result.infer_objects(copy=False)`. To opt-in to the future behavior, set `pd.set_option('future.no_silent_downcasting', True)`\n",
      "  new_df[col] = new_df[col].replace(['Employee', 'Employer'], [1, 0]).astype(int)\n",
      "/Users/margaridabravocardoso/Desktop/final/15_12/functions_final.py:1007: FutureWarning: Downcasting behavior in `replace` is deprecated and will be removed in a future version. To retain the old behavior, explicitly call `result.infer_objects(copy=False)`. To opt-in to the future behavior, set `pd.set_option('future.no_silent_downcasting', True)`\n",
      "  new_df[col] = new_df[col].replace(['Y', 'N'], [1, 0]).astype(int)\n",
      "/Users/margaridabravocardoso/Desktop/final/15_12/functions_final.py:1004: FutureWarning: Downcasting behavior in `replace` is deprecated and will be removed in a future version. To retain the old behavior, explicitly call `result.infer_objects(copy=False)`. To opt-in to the future behavior, set `pd.set_option('future.no_silent_downcasting', True)`\n",
      "  new_df[col] = new_df[col].replace(['F', 'M'], [1, 0]).astype(int)\n",
      "/Users/margaridabravocardoso/Desktop/final/15_12/functions_final.py:1007: FutureWarning: Downcasting behavior in `replace` is deprecated and will be removed in a future version. To retain the old behavior, explicitly call `result.infer_objects(copy=False)`. To opt-in to the future behavior, set `pd.set_option('future.no_silent_downcasting', True)`\n",
      "  new_df[col] = new_df[col].replace(['Y', 'N'], [1, 0]).astype(int)\n",
      "/Users/margaridabravocardoso/Desktop/final/15_12/functions_final.py:1007: FutureWarning: Downcasting behavior in `replace` is deprecated and will be removed in a future version. To retain the old behavior, explicitly call `result.infer_objects(copy=False)`. To opt-in to the future behavior, set `pd.set_option('future.no_silent_downcasting', True)`\n",
      "  new_df[col] = new_df[col].replace(['Y', 'N'], [1, 0]).astype(int)\n",
      "/Users/margaridabravocardoso/Desktop/final/15_12/functions_final.py:1001: FutureWarning: Downcasting behavior in `replace` is deprecated and will be removed in a future version. To retain the old behavior, explicitly call `result.infer_objects(copy=False)`. To opt-in to the future behavior, set `pd.set_option('future.no_silent_downcasting', True)`\n",
      "  new_df[col] = new_df[col].replace(['Employee', 'Employer'], [1, 0]).astype(int)\n",
      "/Users/margaridabravocardoso/Desktop/final/15_12/functions_final.py:1007: FutureWarning: Downcasting behavior in `replace` is deprecated and will be removed in a future version. To retain the old behavior, explicitly call `result.infer_objects(copy=False)`. To opt-in to the future behavior, set `pd.set_option('future.no_silent_downcasting', True)`\n",
      "  new_df[col] = new_df[col].replace(['Y', 'N'], [1, 0]).astype(int)\n",
      "/Users/margaridabravocardoso/Desktop/final/15_12/functions_final.py:1004: FutureWarning: Downcasting behavior in `replace` is deprecated and will be removed in a future version. To retain the old behavior, explicitly call `result.infer_objects(copy=False)`. To opt-in to the future behavior, set `pd.set_option('future.no_silent_downcasting', True)`\n",
      "  new_df[col] = new_df[col].replace(['F', 'M'], [1, 0]).astype(int)\n"
     ]
    }
   ],
   "source": [
    "X_train_2, X_val_2, y_train_2, y_val_2 = train_test_split(X_2, y_2, test_size = 0.3, \n",
    "                                                  random_state = 0, # Ensures reproducibility by controlling the random shuffling of data.\n",
    "                                                                    # Using the same random_state will always yield the same split.\n",
    "\n",
    "                                                  stratify = y_2,     # Ensures that the class distribution (for classification problems) is preserved\n",
    "                                                                    # in both the training and validation sets, maintaining the proportion of each class.\n",
    "\n",
    "                                                  shuffle = True)   # Shuffles the data before splitting to ensure a random distribution \n",
    "                                                                    # between the training and validation sets.\n",
    "                                                                    \n",
    "X_train_2, X_val_2, y_train_2 = preprocessing(X_train_2, X_val_2, y_train_2, scaler=scaler)"
   ]
  },
  {
   "cell_type": "code",
   "execution_count": 46,
   "metadata": {},
   "outputs": [
    {
     "name": "stderr",
     "output_type": "stream",
     "text": [
      "/opt/anaconda3/lib/python3.12/site-packages/sklearn/linear_model/_logistic.py:1237: FutureWarning: 'multi_class' was deprecated in version 1.5 and will be removed in 1.7. From then on, binary problems will be fit as proper binary  logistic regression models (as if multi_class='ovr' were set). Leave it to its default value to avoid this warning.\n",
      "  warnings.warn(\n",
      "/opt/anaconda3/lib/python3.12/site-packages/sklearn/linear_model/_sag.py:349: ConvergenceWarning: The max_iter was reached which means the coef_ did not converge\n",
      "  warnings.warn(\n"
     ]
    },
    {
     "name": "stdout",
     "output_type": "stream",
     "text": [
      "All feature selection methods applied.\n",
      "Numerical majority features: ['Days until Assembly', 'ce_Carrier Type', 'Birth Year', 'Average Weekly Wage', 'Days until First Report', 'IME-4 Count', 'Assembly Date Referenced', 'Age at Injury', 'Log Average Weekly Wage', 'ce_Carrier Name', 'First Report Referenced', 'ce_Industry Code Description', 'Accident Date Referenced']\n",
      "Features to drop: {'Log Average Weekly Wage', 'First Report Referenced', 'Age at Injury', 'Days until First Report', 'Accident Date Referenced'}\n"
     ]
    }
   ],
   "source": [
    "X_train_2 = feature_selection(X_train_2, y_train_2)"
   ]
  },
  {
   "cell_type": "code",
   "execution_count": 47,
   "metadata": {},
   "outputs": [],
   "source": [
    "X_val_2 = X_val_2[X_train_2.columns]"
   ]
  },
  {
   "cell_type": "code",
   "execution_count": 48,
   "metadata": {},
   "outputs": [
    {
     "data": {
      "text/html": [
       "<div>\n",
       "<style scoped>\n",
       "    .dataframe tbody tr th:only-of-type {\n",
       "        vertical-align: middle;\n",
       "    }\n",
       "\n",
       "    .dataframe tbody tr th {\n",
       "        vertical-align: top;\n",
       "    }\n",
       "\n",
       "    .dataframe thead th {\n",
       "        text-align: right;\n",
       "    }\n",
       "</style>\n",
       "<table border=\"1\" class=\"dataframe\">\n",
       "  <thead>\n",
       "    <tr style=\"text-align: right;\">\n",
       "      <th></th>\n",
       "      <th>Average Weekly Wage Missing</th>\n",
       "      <th>Alternative Dispute Resolution</th>\n",
       "      <th>Days until Assembly</th>\n",
       "      <th>WCIO Part Of Body Description Missing</th>\n",
       "      <th>ce_Carrier Type</th>\n",
       "      <th>C-3 Date Missing</th>\n",
       "      <th>Birth Year</th>\n",
       "      <th>Average Weekly Wage Zero</th>\n",
       "      <th>Average Weekly Wage</th>\n",
       "      <th>Attorney/Representative</th>\n",
       "      <th>...</th>\n",
       "      <th>Industry Code Description Missing</th>\n",
       "      <th>IME-4 Count</th>\n",
       "      <th>Carrier Type Missing</th>\n",
       "      <th>Assembly Date Referenced</th>\n",
       "      <th>C-2 Date Missing</th>\n",
       "      <th>Gender</th>\n",
       "      <th>ce_Carrier Name</th>\n",
       "      <th>ce_Industry Code Description</th>\n",
       "      <th>First Hearing Date Missing</th>\n",
       "      <th>First Report Submitter</th>\n",
       "    </tr>\n",
       "    <tr>\n",
       "      <th>Claim Identifier</th>\n",
       "      <th></th>\n",
       "      <th></th>\n",
       "      <th></th>\n",
       "      <th></th>\n",
       "      <th></th>\n",
       "      <th></th>\n",
       "      <th></th>\n",
       "      <th></th>\n",
       "      <th></th>\n",
       "      <th></th>\n",
       "      <th></th>\n",
       "      <th></th>\n",
       "      <th></th>\n",
       "      <th></th>\n",
       "      <th></th>\n",
       "      <th></th>\n",
       "      <th></th>\n",
       "      <th></th>\n",
       "      <th></th>\n",
       "      <th></th>\n",
       "      <th></th>\n",
       "    </tr>\n",
       "  </thead>\n",
       "  <tbody>\n",
       "    <tr>\n",
       "      <th>5580815</th>\n",
       "      <td>1</td>\n",
       "      <td>0</td>\n",
       "      <td>0.443313</td>\n",
       "      <td>0</td>\n",
       "      <td>-0.875504</td>\n",
       "      <td>0</td>\n",
       "      <td>1.268236</td>\n",
       "      <td>1</td>\n",
       "      <td>-0.618916</td>\n",
       "      <td>1</td>\n",
       "      <td>...</td>\n",
       "      <td>0</td>\n",
       "      <td>-0.550697</td>\n",
       "      <td>0</td>\n",
       "      <td>-0.809618</td>\n",
       "      <td>0</td>\n",
       "      <td>0</td>\n",
       "      <td>1.514436</td>\n",
       "      <td>0.133551</td>\n",
       "      <td>1</td>\n",
       "      <td>1</td>\n",
       "    </tr>\n",
       "    <tr>\n",
       "      <th>5871018</th>\n",
       "      <td>0</td>\n",
       "      <td>0</td>\n",
       "      <td>-1.458837</td>\n",
       "      <td>0</td>\n",
       "      <td>0.964638</td>\n",
       "      <td>0</td>\n",
       "      <td>-1.290446</td>\n",
       "      <td>0</td>\n",
       "      <td>-0.144806</td>\n",
       "      <td>1</td>\n",
       "      <td>...</td>\n",
       "      <td>0</td>\n",
       "      <td>1.842168</td>\n",
       "      <td>0</td>\n",
       "      <td>0.483340</td>\n",
       "      <td>0</td>\n",
       "      <td>0</td>\n",
       "      <td>0.438724</td>\n",
       "      <td>0.133551</td>\n",
       "      <td>1</td>\n",
       "      <td>0</td>\n",
       "    </tr>\n",
       "    <tr>\n",
       "      <th>5756578</th>\n",
       "      <td>0</td>\n",
       "      <td>0</td>\n",
       "      <td>0.056028</td>\n",
       "      <td>0</td>\n",
       "      <td>0.964638</td>\n",
       "      <td>1</td>\n",
       "      <td>-0.876717</td>\n",
       "      <td>1</td>\n",
       "      <td>0.598186</td>\n",
       "      <td>1</td>\n",
       "      <td>...</td>\n",
       "      <td>0</td>\n",
       "      <td>1.937597</td>\n",
       "      <td>0</td>\n",
       "      <td>0.010638</td>\n",
       "      <td>0</td>\n",
       "      <td>1</td>\n",
       "      <td>-0.290783</td>\n",
       "      <td>-1.686340</td>\n",
       "      <td>0</td>\n",
       "      <td>0</td>\n",
       "    </tr>\n",
       "    <tr>\n",
       "      <th>5899402</th>\n",
       "      <td>1</td>\n",
       "      <td>0</td>\n",
       "      <td>0.191446</td>\n",
       "      <td>1</td>\n",
       "      <td>0.964638</td>\n",
       "      <td>1</td>\n",
       "      <td>0.128026</td>\n",
       "      <td>1</td>\n",
       "      <td>0.401481</td>\n",
       "      <td>0</td>\n",
       "      <td>...</td>\n",
       "      <td>0</td>\n",
       "      <td>-0.550697</td>\n",
       "      <td>0</td>\n",
       "      <td>0.603263</td>\n",
       "      <td>0</td>\n",
       "      <td>1</td>\n",
       "      <td>-0.416927</td>\n",
       "      <td>-1.114123</td>\n",
       "      <td>1</td>\n",
       "      <td>0</td>\n",
       "    </tr>\n",
       "    <tr>\n",
       "      <th>5734547</th>\n",
       "      <td>0</td>\n",
       "      <td>0</td>\n",
       "      <td>2.169746</td>\n",
       "      <td>0</td>\n",
       "      <td>-0.875504</td>\n",
       "      <td>0</td>\n",
       "      <td>0.500613</td>\n",
       "      <td>1</td>\n",
       "      <td>0.324471</td>\n",
       "      <td>1</td>\n",
       "      <td>...</td>\n",
       "      <td>0</td>\n",
       "      <td>1.937597</td>\n",
       "      <td>0</td>\n",
       "      <td>-0.075086</td>\n",
       "      <td>0</td>\n",
       "      <td>0</td>\n",
       "      <td>1.514436</td>\n",
       "      <td>-0.750550</td>\n",
       "      <td>0</td>\n",
       "      <td>1</td>\n",
       "    </tr>\n",
       "    <tr>\n",
       "      <th>...</th>\n",
       "      <td>...</td>\n",
       "      <td>...</td>\n",
       "      <td>...</td>\n",
       "      <td>...</td>\n",
       "      <td>...</td>\n",
       "      <td>...</td>\n",
       "      <td>...</td>\n",
       "      <td>...</td>\n",
       "      <td>...</td>\n",
       "      <td>...</td>\n",
       "      <td>...</td>\n",
       "      <td>...</td>\n",
       "      <td>...</td>\n",
       "      <td>...</td>\n",
       "      <td>...</td>\n",
       "      <td>...</td>\n",
       "      <td>...</td>\n",
       "      <td>...</td>\n",
       "      <td>...</td>\n",
       "      <td>...</td>\n",
       "      <td>...</td>\n",
       "    </tr>\n",
       "    <tr>\n",
       "      <th>5928065</th>\n",
       "      <td>0</td>\n",
       "      <td>0</td>\n",
       "      <td>1.644273</td>\n",
       "      <td>0</td>\n",
       "      <td>-0.753289</td>\n",
       "      <td>0</td>\n",
       "      <td>-0.666103</td>\n",
       "      <td>1</td>\n",
       "      <td>1.143644</td>\n",
       "      <td>1</td>\n",
       "      <td>...</td>\n",
       "      <td>0</td>\n",
       "      <td>-0.550697</td>\n",
       "      <td>0</td>\n",
       "      <td>0.707666</td>\n",
       "      <td>0</td>\n",
       "      <td>0</td>\n",
       "      <td>0.638439</td>\n",
       "      <td>0.837700</td>\n",
       "      <td>0</td>\n",
       "      <td>1</td>\n",
       "    </tr>\n",
       "    <tr>\n",
       "      <th>5863005</th>\n",
       "      <td>0</td>\n",
       "      <td>0</td>\n",
       "      <td>-0.465362</td>\n",
       "      <td>0</td>\n",
       "      <td>0.964638</td>\n",
       "      <td>1</td>\n",
       "      <td>0.651724</td>\n",
       "      <td>1</td>\n",
       "      <td>0.935077</td>\n",
       "      <td>1</td>\n",
       "      <td>...</td>\n",
       "      <td>0</td>\n",
       "      <td>-0.550697</td>\n",
       "      <td>0</td>\n",
       "      <td>0.443016</td>\n",
       "      <td>0</td>\n",
       "      <td>0</td>\n",
       "      <td>0.080160</td>\n",
       "      <td>-0.521385</td>\n",
       "      <td>1</td>\n",
       "      <td>0</td>\n",
       "    </tr>\n",
       "    <tr>\n",
       "      <th>5978453</th>\n",
       "      <td>0</td>\n",
       "      <td>0</td>\n",
       "      <td>2.213613</td>\n",
       "      <td>0</td>\n",
       "      <td>-0.753289</td>\n",
       "      <td>1</td>\n",
       "      <td>-1.084822</td>\n",
       "      <td>0</td>\n",
       "      <td>1.005495</td>\n",
       "      <td>0</td>\n",
       "      <td>...</td>\n",
       "      <td>0</td>\n",
       "      <td>-0.550697</td>\n",
       "      <td>0</td>\n",
       "      <td>0.885709</td>\n",
       "      <td>0</td>\n",
       "      <td>1</td>\n",
       "      <td>0.011996</td>\n",
       "      <td>1.326134</td>\n",
       "      <td>1</td>\n",
       "      <td>1</td>\n",
       "    </tr>\n",
       "    <tr>\n",
       "      <th>5593197</th>\n",
       "      <td>0</td>\n",
       "      <td>0</td>\n",
       "      <td>0.521352</td>\n",
       "      <td>0</td>\n",
       "      <td>-1.675884</td>\n",
       "      <td>0</td>\n",
       "      <td>-0.524289</td>\n",
       "      <td>1</td>\n",
       "      <td>-2.415581</td>\n",
       "      <td>1</td>\n",
       "      <td>...</td>\n",
       "      <td>0</td>\n",
       "      <td>1.613108</td>\n",
       "      <td>0</td>\n",
       "      <td>-0.750533</td>\n",
       "      <td>0</td>\n",
       "      <td>0</td>\n",
       "      <td>0.136589</td>\n",
       "      <td>-0.065129</td>\n",
       "      <td>0</td>\n",
       "      <td>1</td>\n",
       "    </tr>\n",
       "    <tr>\n",
       "      <th>5937572</th>\n",
       "      <td>0</td>\n",
       "      <td>0</td>\n",
       "      <td>0.975383</td>\n",
       "      <td>0</td>\n",
       "      <td>-0.753289</td>\n",
       "      <td>1</td>\n",
       "      <td>-2.282243</td>\n",
       "      <td>1</td>\n",
       "      <td>-1.595228</td>\n",
       "      <td>0</td>\n",
       "      <td>...</td>\n",
       "      <td>0</td>\n",
       "      <td>-0.550697</td>\n",
       "      <td>0</td>\n",
       "      <td>0.741289</td>\n",
       "      <td>0</td>\n",
       "      <td>1</td>\n",
       "      <td>-0.874489</td>\n",
       "      <td>0.837700</td>\n",
       "      <td>1</td>\n",
       "      <td>1</td>\n",
       "    </tr>\n",
       "  </tbody>\n",
       "</table>\n",
       "<p>393873 rows × 22 columns</p>\n",
       "</div>"
      ],
      "text/plain": [
       "                  Average Weekly Wage Missing  Alternative Dispute Resolution  \\\n",
       "Claim Identifier                                                                \n",
       "5580815                                     1                               0   \n",
       "5871018                                     0                               0   \n",
       "5756578                                     0                               0   \n",
       "5899402                                     1                               0   \n",
       "5734547                                     0                               0   \n",
       "...                                       ...                             ...   \n",
       "5928065                                     0                               0   \n",
       "5863005                                     0                               0   \n",
       "5978453                                     0                               0   \n",
       "5593197                                     0                               0   \n",
       "5937572                                     0                               0   \n",
       "\n",
       "                  Days until Assembly  WCIO Part Of Body Description Missing  \\\n",
       "Claim Identifier                                                               \n",
       "5580815                      0.443313                                      0   \n",
       "5871018                     -1.458837                                      0   \n",
       "5756578                      0.056028                                      0   \n",
       "5899402                      0.191446                                      1   \n",
       "5734547                      2.169746                                      0   \n",
       "...                               ...                                    ...   \n",
       "5928065                      1.644273                                      0   \n",
       "5863005                     -0.465362                                      0   \n",
       "5978453                      2.213613                                      0   \n",
       "5593197                      0.521352                                      0   \n",
       "5937572                      0.975383                                      0   \n",
       "\n",
       "                  ce_Carrier Type  C-3 Date Missing  Birth Year  \\\n",
       "Claim Identifier                                                  \n",
       "5580815                 -0.875504                 0    1.268236   \n",
       "5871018                  0.964638                 0   -1.290446   \n",
       "5756578                  0.964638                 1   -0.876717   \n",
       "5899402                  0.964638                 1    0.128026   \n",
       "5734547                 -0.875504                 0    0.500613   \n",
       "...                           ...               ...         ...   \n",
       "5928065                 -0.753289                 0   -0.666103   \n",
       "5863005                  0.964638                 1    0.651724   \n",
       "5978453                 -0.753289                 1   -1.084822   \n",
       "5593197                 -1.675884                 0   -0.524289   \n",
       "5937572                 -0.753289                 1   -2.282243   \n",
       "\n",
       "                  Average Weekly Wage Zero  Average Weekly Wage  \\\n",
       "Claim Identifier                                                  \n",
       "5580815                                  1            -0.618916   \n",
       "5871018                                  0            -0.144806   \n",
       "5756578                                  1             0.598186   \n",
       "5899402                                  1             0.401481   \n",
       "5734547                                  1             0.324471   \n",
       "...                                    ...                  ...   \n",
       "5928065                                  1             1.143644   \n",
       "5863005                                  1             0.935077   \n",
       "5978453                                  0             1.005495   \n",
       "5593197                                  1            -2.415581   \n",
       "5937572                                  1            -1.595228   \n",
       "\n",
       "                  Attorney/Representative  ...  \\\n",
       "Claim Identifier                           ...   \n",
       "5580815                                 1  ...   \n",
       "5871018                                 1  ...   \n",
       "5756578                                 1  ...   \n",
       "5899402                                 0  ...   \n",
       "5734547                                 1  ...   \n",
       "...                                   ...  ...   \n",
       "5928065                                 1  ...   \n",
       "5863005                                 1  ...   \n",
       "5978453                                 0  ...   \n",
       "5593197                                 1  ...   \n",
       "5937572                                 0  ...   \n",
       "\n",
       "                  Industry Code Description Missing  IME-4 Count  \\\n",
       "Claim Identifier                                                   \n",
       "5580815                                           0    -0.550697   \n",
       "5871018                                           0     1.842168   \n",
       "5756578                                           0     1.937597   \n",
       "5899402                                           0    -0.550697   \n",
       "5734547                                           0     1.937597   \n",
       "...                                             ...          ...   \n",
       "5928065                                           0    -0.550697   \n",
       "5863005                                           0    -0.550697   \n",
       "5978453                                           0    -0.550697   \n",
       "5593197                                           0     1.613108   \n",
       "5937572                                           0    -0.550697   \n",
       "\n",
       "                  Carrier Type Missing  Assembly Date Referenced  \\\n",
       "Claim Identifier                                                   \n",
       "5580815                              0                 -0.809618   \n",
       "5871018                              0                  0.483340   \n",
       "5756578                              0                  0.010638   \n",
       "5899402                              0                  0.603263   \n",
       "5734547                              0                 -0.075086   \n",
       "...                                ...                       ...   \n",
       "5928065                              0                  0.707666   \n",
       "5863005                              0                  0.443016   \n",
       "5978453                              0                  0.885709   \n",
       "5593197                              0                 -0.750533   \n",
       "5937572                              0                  0.741289   \n",
       "\n",
       "                  C-2 Date Missing  Gender  ce_Carrier Name  \\\n",
       "Claim Identifier                                              \n",
       "5580815                          0       0         1.514436   \n",
       "5871018                          0       0         0.438724   \n",
       "5756578                          0       1        -0.290783   \n",
       "5899402                          0       1        -0.416927   \n",
       "5734547                          0       0         1.514436   \n",
       "...                            ...     ...              ...   \n",
       "5928065                          0       0         0.638439   \n",
       "5863005                          0       0         0.080160   \n",
       "5978453                          0       1         0.011996   \n",
       "5593197                          0       0         0.136589   \n",
       "5937572                          0       1        -0.874489   \n",
       "\n",
       "                  ce_Industry Code Description  First Hearing Date Missing  \\\n",
       "Claim Identifier                                                             \n",
       "5580815                               0.133551                           1   \n",
       "5871018                               0.133551                           1   \n",
       "5756578                              -1.686340                           0   \n",
       "5899402                              -1.114123                           1   \n",
       "5734547                              -0.750550                           0   \n",
       "...                                        ...                         ...   \n",
       "5928065                               0.837700                           0   \n",
       "5863005                              -0.521385                           1   \n",
       "5978453                               1.326134                           1   \n",
       "5593197                              -0.065129                           0   \n",
       "5937572                               0.837700                           1   \n",
       "\n",
       "                  First Report Submitter  \n",
       "Claim Identifier                          \n",
       "5580815                                1  \n",
       "5871018                                0  \n",
       "5756578                                0  \n",
       "5899402                                0  \n",
       "5734547                                1  \n",
       "...                                  ...  \n",
       "5928065                                1  \n",
       "5863005                                0  \n",
       "5978453                                1  \n",
       "5593197                                1  \n",
       "5937572                                1  \n",
       "\n",
       "[393873 rows x 22 columns]"
      ]
     },
     "execution_count": 48,
     "metadata": {},
     "output_type": "execute_result"
    }
   ],
   "source": [
    "X_train_2"
   ]
  },
  {
   "cell_type": "code",
   "execution_count": 49,
   "metadata": {},
   "outputs": [
    {
     "name": "stdout",
     "output_type": "stream",
     "text": [
      "Test fold:  565331\n",
      "X_combined:  565331\n",
      "y_combined:  565331\n"
     ]
    }
   ],
   "source": [
    "X_combined_2 = pd.concat([X_train_2, X_val_2])\n",
    "y_combined_2 = pd.concat([y_train_2, y_val_2])\n",
    "\n",
    "# Create a test fold index (-1 for train_2, 0 for validation)\n",
    "test_fold = [-1] * len(X_train_2) + [0] * len(X_val_2)\n",
    "\n",
    "print('Test fold: ', len(test_fold))\n",
    "print('X_combined: ', len(X_combined_2))\n",
    "print('y_combined: ', len(y_combined_2))\n",
    "\n",
    "# Define the PredefinedSplit\n",
    "ps = PredefinedSplit(test_fold=test_fold)"
   ]
  },
  {
   "cell_type": "markdown",
   "metadata": {},
   "source": [
    "## 2.2 Dealing with class imbalance"
   ]
  },
  {
   "cell_type": "code",
   "execution_count": 50,
   "metadata": {},
   "outputs": [
    {
     "name": "stdout",
     "output_type": "stream",
     "text": [
      "Original class distribution:\n",
      "Agreement Reached\n",
      "0.0    544885\n",
      "1.0     26641\n",
      "Name: count, dtype: int64\n",
      "\n",
      "Class distribution after Tomek Links:\n",
      "Agreement Reached\n",
      "0.0    375259\n",
      "1.0     12439\n",
      "Name: count, dtype: int64\n"
     ]
    }
   ],
   "source": [
    "tomek = TomekLinks(sampling_strategy='not majority')\n",
    "\n",
    "# Apply Tomek Links to the dataset\n",
    "X_resampled_2, y_resampled_2 = tomek.fit_resample(X_train_2, y_train_2)\n",
    "\n",
    "# Check class distribution\n",
    "print(\"Original class distribution:\")\n",
    "print(y_2.value_counts())\n",
    "print(\"\\nClass distribution after Tomek Links:\")\n",
    "print(pd.Series(y_resampled_2).value_counts())"
   ]
  },
  {
   "cell_type": "code",
   "execution_count": 55,
   "metadata": {},
   "outputs": [
    {
     "name": "stdout",
     "output_type": "stream",
     "text": [
      "Test fold:  559156\n",
      "X_combined_resampled:  559156\n",
      "y_combined:  559156\n"
     ]
    }
   ],
   "source": [
    "X_combined_resampled_2 = pd.concat([X_resampled_2, X_val_2], axis=0)\n",
    "y_combined_resampled_2 = pd.concat([y_resampled_2, y_val_2], axis=0)\n",
    "\n",
    "# Create a test fold index (-1 for train_2, 0 for validation)\n",
    "test_fold = [-1] * len(X_resampled_2) + [0] * len(X_val_2)\n",
    "\n",
    "print('Test fold: ', len(test_fold))\n",
    "print('X_combined_resampled: ', len(X_combined_resampled_2))\n",
    "print('y_combined: ', len(y_combined_resampled_2))\n",
    "\n",
    "# Define the PredefinedSplit\n",
    "ps = PredefinedSplit(test_fold=test_fold)"
   ]
  },
  {
   "cell_type": "markdown",
   "metadata": {},
   "source": [
    "## 2.3 Models"
   ]
  },
  {
   "cell_type": "markdown",
   "metadata": {},
   "source": [
    "### 2.3.1 Logistic Regression"
   ]
  },
  {
   "cell_type": "code",
   "execution_count": 74,
   "metadata": {},
   "outputs": [
    {
     "name": "stdout",
     "output_type": "stream",
     "text": [
      "Fitting 1 folds for each of 50 candidates, totalling 50 fits\n"
     ]
    },
    {
     "name": "stderr",
     "output_type": "stream",
     "text": [
      "/opt/anaconda3/lib/python3.12/site-packages/sklearn/model_selection/_validation.py:540: FitFailedWarning: \n",
      "25 fits failed out of a total of 50.\n",
      "The score on these train-test partitions for these parameters will be set to nan.\n",
      "If these failures are not expected, you can try to debug them by setting error_score='raise'.\n",
      "\n",
      "Below are more details about the failures:\n",
      "--------------------------------------------------------------------------------\n",
      "9 fits failed with the following error:\n",
      "Traceback (most recent call last):\n",
      "  File \"/opt/anaconda3/lib/python3.12/site-packages/sklearn/model_selection/_validation.py\", line 888, in _fit_and_score\n",
      "    estimator.fit(X_train, y_train, **fit_params)\n",
      "  File \"/opt/anaconda3/lib/python3.12/site-packages/sklearn/base.py\", line 1473, in wrapper\n",
      "    return fit_method(estimator, *args, **kwargs)\n",
      "           ^^^^^^^^^^^^^^^^^^^^^^^^^^^^^^^^^^^^^^\n",
      "  File \"/opt/anaconda3/lib/python3.12/site-packages/sklearn/linear_model/_logistic.py\", line 1194, in fit\n",
      "    solver = _check_solver(self.solver, self.penalty, self.dual)\n",
      "             ^^^^^^^^^^^^^^^^^^^^^^^^^^^^^^^^^^^^^^^^^^^^^^^^^^^\n",
      "  File \"/opt/anaconda3/lib/python3.12/site-packages/sklearn/linear_model/_logistic.py\", line 67, in _check_solver\n",
      "    raise ValueError(\n",
      "ValueError: Solver lbfgs supports only 'l2' or None penalties, got elasticnet penalty.\n",
      "\n",
      "--------------------------------------------------------------------------------\n",
      "9 fits failed with the following error:\n",
      "Traceback (most recent call last):\n",
      "  File \"/opt/anaconda3/lib/python3.12/site-packages/sklearn/model_selection/_validation.py\", line 888, in _fit_and_score\n",
      "    estimator.fit(X_train, y_train, **fit_params)\n",
      "  File \"/opt/anaconda3/lib/python3.12/site-packages/sklearn/base.py\", line 1473, in wrapper\n",
      "    return fit_method(estimator, *args, **kwargs)\n",
      "           ^^^^^^^^^^^^^^^^^^^^^^^^^^^^^^^^^^^^^^\n",
      "  File \"/opt/anaconda3/lib/python3.12/site-packages/sklearn/linear_model/_logistic.py\", line 1194, in fit\n",
      "    solver = _check_solver(self.solver, self.penalty, self.dual)\n",
      "             ^^^^^^^^^^^^^^^^^^^^^^^^^^^^^^^^^^^^^^^^^^^^^^^^^^^\n",
      "  File \"/opt/anaconda3/lib/python3.12/site-packages/sklearn/linear_model/_logistic.py\", line 67, in _check_solver\n",
      "    raise ValueError(\n",
      "ValueError: Solver lbfgs supports only 'l2' or None penalties, got l1 penalty.\n",
      "\n",
      "--------------------------------------------------------------------------------\n",
      "7 fits failed with the following error:\n",
      "Traceback (most recent call last):\n",
      "  File \"/opt/anaconda3/lib/python3.12/site-packages/sklearn/model_selection/_validation.py\", line 888, in _fit_and_score\n",
      "    estimator.fit(X_train, y_train, **fit_params)\n",
      "  File \"/opt/anaconda3/lib/python3.12/site-packages/sklearn/base.py\", line 1473, in wrapper\n",
      "    return fit_method(estimator, *args, **kwargs)\n",
      "           ^^^^^^^^^^^^^^^^^^^^^^^^^^^^^^^^^^^^^^\n",
      "  File \"/opt/anaconda3/lib/python3.12/site-packages/sklearn/linear_model/_logistic.py\", line 1194, in fit\n",
      "    solver = _check_solver(self.solver, self.penalty, self.dual)\n",
      "             ^^^^^^^^^^^^^^^^^^^^^^^^^^^^^^^^^^^^^^^^^^^^^^^^^^^\n",
      "  File \"/opt/anaconda3/lib/python3.12/site-packages/sklearn/linear_model/_logistic.py\", line 75, in _check_solver\n",
      "    raise ValueError(\n",
      "ValueError: Only 'saga' solver supports elasticnet penalty, got solver=liblinear.\n",
      "\n",
      "  warnings.warn(some_fits_failed_message, FitFailedWarning)\n",
      "/opt/anaconda3/lib/python3.12/site-packages/sklearn/model_selection/_search.py:1102: UserWarning: One or more of the test scores are non-finite: [       nan        nan 0.49221517        nan        nan 0.49221722\n",
      " 0.49233758        nan        nan 0.49233758 0.49221517        nan\n",
      " 0.49232933 0.49245993        nan        nan        nan        nan\n",
      " 0.49221312 0.49232933 0.49221517 0.49221517        nan        nan\n",
      " 0.49221312        nan        nan 0.49221517 0.49233964 0.49221517\n",
      " 0.49208457 0.49232933        nan        nan        nan        nan\n",
      " 0.49233758        nan 0.49087032        nan 0.49221312 0.49233964\n",
      "        nan 0.49233964        nan 0.49087032        nan 0.49208457\n",
      "        nan 0.49233758]\n",
      "  warnings.warn(\n",
      "/opt/anaconda3/lib/python3.12/site-packages/sklearn/model_selection/_search.py:1102: UserWarning: One or more of the train scores are non-finite: [       nan        nan 0.51460397        nan        nan 0.51300672\n",
      " 0.51426116        nan        nan 0.5137443  0.51450724        nan\n",
      " 0.51404918 0.51413387        nan        nan        nan        nan\n",
      " 0.51440842 0.51404918 0.51445273 0.51450519        nan        nan\n",
      " 0.51307121        nan        nan 0.51460397 0.51291916 0.51450724\n",
      " 0.51019145 0.51404918        nan        nan        nan        nan\n",
      " 0.51426116        nan 0.50760589        nan 0.51307121 0.51291916\n",
      "        nan 0.51291916        nan 0.50760589        nan 0.51019145\n",
      "        nan 0.5137443 ]\n",
      "  warnings.warn(\n"
     ]
    },
    {
     "name": "stdout",
     "output_type": "stream",
     "text": [
      "Best Parameters: {'solver': 'lbfgs', 'penalty': 'l2', 'max_iter': 500, 'C': 100}\n",
      "Best Validation (Test) Score: 0.4924599260431209\n",
      "Training F1 Score from CV Results: 0.5141338748246115\n"
     ]
    }
   ],
   "source": [
    "lr_1 = LogisticRegression(random_state=42)\n",
    "\n",
    "param_distributions_lr_1 = {\n",
    "    'penalty': ['l1', 'l2', 'elasticnet'],\n",
    "    'C': [0.01, 0.1, 1, 10, 100],\n",
    "    'solver': ['lbfgs', 'liblinear'],\n",
    "    'max_iter': [100, 200, 500]\n",
    "}\n",
    "\n",
    "\n",
    "random_search_lr1 = RandomizedSearchCV(\n",
    "    lr_1, \n",
    "    param_distributions_lr_1, \n",
    "    n_iter=50, \n",
    "    scoring='f1_macro', \n",
    "    cv=ps, \n",
    "    random_state=42, \n",
    "    verbose = 1,\n",
    "    n_jobs=-1,\n",
    "    return_train_score=True\n",
    ")\n",
    "\n",
    "# Step 4: Fit the random search\n",
    "random_search_lr1.fit(X_combined_2, y_combined_2)\n",
    "\n",
    "# Step 6: Print the best parameters and scores\n",
    "print(\"Best Parameters:\", random_search_lr1.best_params_)\n",
    "print(\"Best Validation (Test) Score:\", random_search_lr1.best_score_)\n",
    "results_df_1 = pd.DataFrame(random_search_lr1.cv_results_)\n",
    "train_score_best_model_lr1 = results_df_1.loc[results_df_1['rank_test_score'] == 1, 'mean_train_score'].values[0]\n",
    "\n",
    "print(\"Training F1 Score from CV Results:\", train_score_best_model_lr1)"
   ]
  },
  {
   "cell_type": "code",
   "execution_count": 75,
   "metadata": {},
   "outputs": [
    {
     "data": {
      "text/plain": [
       "<sklearn.metrics._plot.confusion_matrix.ConfusionMatrixDisplay at 0x1206dc6e0>"
      ]
     },
     "execution_count": 75,
     "metadata": {},
     "output_type": "execute_result"
    },
    {
     "data": {
      "image/png": "[encoded data removed]",
      "text/plain": [
       "<Figure size 640x480 with 2 Axes>"
      ]
     },
     "metadata": {},
     "output_type": "display_data"
    }
   ],
   "source": [
    "best_lr1_model = random_search_lr1.best_estimator_\n",
    "\n",
    "y_pred1 = best_lr1_model.predict(X_val_2)  # Replace with your validation/test dataset\n",
    "y_true1 = y_val_2  # Replace with your true labels for validation/test\n",
    "\n",
    "cm = confusion_matrix(y_true1, y_pred1)\n",
    "\n",
    "# Step 4: Display the confusion matrix\n",
    "disp = ConfusionMatrixDisplay(confusion_matrix=cm, display_labels=best_lr1_model.classes_)\n",
    "disp.plot(cmap=\"Blues\", values_format='d')"
   ]
  },
  {
   "cell_type": "code",
   "execution_count": 76,
   "metadata": {},
   "outputs": [
    {
     "name": "stderr",
     "output_type": "stream",
     "text": [
      "/opt/anaconda3/lib/python3.12/site-packages/sklearn/model_selection/_search.py:320: UserWarning: The total space of parameters 30 is smaller than n_iter=50. Running 30 iterations. For exhaustive searches, use GridSearchCV.\n",
      "  warnings.warn(\n"
     ]
    },
    {
     "name": "stdout",
     "output_type": "stream",
     "text": [
      "Fitting 1 folds for each of 30 candidates, totalling 30 fits\n",
      "Best Parameters: {'solver': 'liblinear', 'penalty': 'l1', 'max_iter': 100, 'C': 1}\n",
      "Best Validation (Test) Score: 0.4894407492336572\n",
      "Training F1 Score from CV Results: 0.5052111238316656\n"
     ]
    }
   ],
   "source": [
    "lr2 = LogisticRegression(random_state=42)\n",
    "\n",
    "param_distributions_lr2 = {\n",
    "    'penalty': ['l1', 'l2'],  # Drop 'elasticnet' if not necessary\n",
    "    'C': [0.01, 0.1, 1, 10, 100],\n",
    "    'solver': ['liblinear'],  # Focus on 'liblinear' for binary classification\n",
    "    'max_iter': [100, 200, 500]\n",
    "}\n",
    "\n",
    "\n",
    "random_search_lr2 = RandomizedSearchCV(\n",
    "    lr2, \n",
    "    param_distributions_lr2, \n",
    "    n_iter=50, \n",
    "    scoring='f1_macro', \n",
    "    cv=ps, \n",
    "    random_state=42, \n",
    "    verbose = 1,\n",
    "    n_jobs=-1,\n",
    "    return_train_score=True\n",
    ")\n",
    "\n",
    "# Step 4: Fit the random search\n",
    "random_search_lr2.fit(X_combined_resampled_2, y_combined_resampled_2)\n",
    "\n",
    "# Step 6: Print the best parameters and scores\n",
    "print(\"Best Parameters:\", random_search_lr2.best_params_)\n",
    "print(\"Best Validation (Test) Score:\", random_search_lr2.best_score_)\n",
    "\n",
    "results_df_2 = pd.DataFrame(random_search_lr2.cv_results_)\n",
    "train_score_best_model_lr2 = results_df_2.loc[results_df_2['rank_test_score'] == 1, 'mean_train_score'].values[0]\n",
    "\n",
    "print(\"Training F1 Score from CV Results:\", train_score_best_model_lr2)"
   ]
  },
  {
   "cell_type": "code",
   "execution_count": 77,
   "metadata": {},
   "outputs": [
    {
     "data": {
      "text/plain": [
       "<sklearn.metrics._plot.confusion_matrix.ConfusionMatrixDisplay at 0x121285040>"
      ]
     },
     "execution_count": 77,
     "metadata": {},
     "output_type": "execute_result"
    },
    {
     "data": {
      "image/png": "[encoded data removed]",
      "text/plain": [
       "<Figure size 640x480 with 2 Axes>"
      ]
     },
     "metadata": {},
     "output_type": "display_data"
    }
   ],
   "source": [
    "best_lr2_model = random_search_lr2.best_estimator_\n",
    "\n",
    "y_pred2 = best_lr2_model.predict(X_val_2)  # Replace with your validation/test dataset\n",
    "y_true2 = y_val_2  # Replace with your true labels for validation/test\n",
    "\n",
    "cm = confusion_matrix(y_true2, y_pred2)\n",
    "\n",
    "# Step 4: Display the confusion matrix\n",
    "disp = ConfusionMatrixDisplay(confusion_matrix=cm, display_labels=best_lr2_model.classes_)\n",
    "disp.plot(cmap=\"Blues\", values_format='d')"
   ]
  },
  {
   "cell_type": "markdown",
   "metadata": {},
   "source": [
    "**CONCLUSIONS**: The validation score slightly decreased after undersampling, what suggests that the removal of borderline samples did not improve generalization performance on the test data. Despite this, the detection of the minority class (1) improved slightly from 87 to 94, but \n",
    "the improvement is minimal."
   ]
  },
  {
   "cell_type": "markdown",
   "metadata": {},
   "source": [
    "### 2.3.2 Random Forest"
   ]
  },
  {
   "cell_type": "code",
   "execution_count": 78,
   "metadata": {},
   "outputs": [
    {
     "name": "stdout",
     "output_type": "stream",
     "text": [
      "Fitting 1 folds for each of 50 candidates, totalling 50 fits\n",
      "Best Parameters: {'n_estimators': 10, 'min_samples_split': 2, 'min_samples_leaf': 1, 'max_depth': 3, 'bootstrap': True}\n",
      "Best Validation (Test) Score: 0.5729982219009261\n",
      "Training F1 Score from CV Results: 0.5674781853681247\n"
     ]
    }
   ],
   "source": [
    "rf1 = RandomForestClassifier(random_state=42,class_weight='balanced')\n",
    "\n",
    "param_distributions_rf1 = {\n",
    "    'n_estimators': [5,10,15, 20],\n",
    "    'max_depth': [1,2,3,4,5],\n",
    "    'min_samples_split': [2, 5, 10],\n",
    "    'min_samples_leaf': [1, 2, 4],\n",
    "    'bootstrap': [True, False]\n",
    "}\n",
    "\n",
    "random_search_rf1 = RandomizedSearchCV(\n",
    "    rf1, \n",
    "    param_distributions_rf1, \n",
    "    n_iter=50, \n",
    "    scoring='f1_macro', \n",
    "    cv=ps, \n",
    "    random_state=42, \n",
    "    verbose = 1,\n",
    "    n_jobs=-1,\n",
    "    return_train_score=True\n",
    ")\n",
    "\n",
    "# Step 4: Fit the random search\n",
    "random_search_rf1.fit(X_combined_2, y_combined_2)\n",
    "\n",
    "# Step 6: Print the best parameters and scores\n",
    "print(\"Best Parameters:\", random_search_rf1.best_params_)\n",
    "print(\"Best Validation (Test) Score:\", random_search_rf1.best_score_)\n",
    "\n",
    "\n",
    "results_df_3 = pd.DataFrame(random_search_rf1.cv_results_)\n",
    "train_score_best_model_rf3 = results_df_3.loc[results_df_3['rank_test_score'] == 1, 'mean_train_score'].values[0]\n",
    "\n",
    "print(\"Training F1 Score from CV Results:\", train_score_best_model_rf3)"
   ]
  },
  {
   "cell_type": "code",
   "execution_count": 79,
   "metadata": {},
   "outputs": [
    {
     "data": {
      "text/plain": [
       "<sklearn.metrics._plot.confusion_matrix.ConfusionMatrixDisplay at 0x121285130>"
      ]
     },
     "execution_count": 79,
     "metadata": {},
     "output_type": "execute_result"
    },
    {
     "data": {
      "image/png": "[encoded data removed]",
      "text/plain": [
       "<Figure size 640x480 with 2 Axes>"
      ]
     },
     "metadata": {},
     "output_type": "display_data"
    }
   ],
   "source": [
    "best_rf1_model = random_search_rf1.best_estimator_\n",
    "\n",
    "y_pred3 = best_rf1_model.predict(X_val_2)  # Replace with your validation/test dataset\n",
    "y_true3 = y_val_2  # Replace with your true labels for validation/test\n",
    "\n",
    "cm = confusion_matrix(y_true3, y_pred3)\n",
    "\n",
    "# Step 4: Display the confusion matrix\n",
    "disp = ConfusionMatrixDisplay(confusion_matrix=cm, display_labels=best_rf1_model.classes_)\n",
    "disp.plot(cmap=\"Blues\", values_format='d')"
   ]
  },
  {
   "cell_type": "code",
   "execution_count": 71,
   "metadata": {},
   "outputs": [
    {
     "name": "stdout",
     "output_type": "stream",
     "text": [
      "Fitting 1 folds for each of 50 candidates, totalling 50 fits\n",
      "Best Parameters: {'n_estimators': 10, 'min_samples_split': 2, 'min_samples_leaf': 1, 'max_depth': 3, 'bootstrap': True}\n",
      "Best Validation (Test) Score: 0.5751341065183304\n",
      "Training F1 Score from CV Results: 0.5674781853681247\n"
     ]
    }
   ],
   "source": [
    "rf2 = RandomForestClassifier(random_state=42, class_weight='balanced')\n",
    "\n",
    "param_distributions_rf2 = {\n",
    "    'n_estimators': [5,10,15, 20],\n",
    "    'max_depth': [1,2,3,4,5],\n",
    "    'min_samples_split': [2, 5, 10],\n",
    "    'min_samples_leaf': [1, 2, 4],\n",
    "    'bootstrap': [True, False]\n",
    "}\n",
    "\n",
    "\n",
    "random_search_rf2 = RandomizedSearchCV(\n",
    "    rf2, \n",
    "    param_distributions_rf2, \n",
    "    n_iter=50, \n",
    "    scoring='f1_macro',\n",
    "    cv=ps, \n",
    "    random_state=42, \n",
    "    verbose = 1,\n",
    "    n_jobs=-1,\n",
    "    return_train_score=True\n",
    ")\n",
    "\n",
    "# Step 4: Fit the random search\n",
    "random_search_rf2.fit(X_combined_resampled_2, y_combined_resampled_2)\n",
    "\n",
    "# Step 6: Print the best parameters and scores\n",
    "print(\"Best Parameters:\", random_search_rf2.best_params_)\n",
    "print(\"Best Validation (Test) Score:\", random_search_rf2.best_score_)\n",
    "\n",
    "\n",
    "results_df_4 = pd.DataFrame(random_search_rf1.cv_results_)\n",
    "train_score_best_model_rf4 = results_df_4.loc[results_df_4['rank_test_score'] == 1, 'mean_train_score'].values[0]\n",
    "\n",
    "print(\"Training F1 Score from CV Results:\", train_score_best_model_rf4)"
   ]
  },
  {
   "cell_type": "code",
   "execution_count": 80,
   "metadata": {},
   "outputs": [
    {
     "data": {
      "text/plain": [
       "<sklearn.metrics._plot.confusion_matrix.ConfusionMatrixDisplay at 0x120757890>"
      ]
     },
     "execution_count": 80,
     "metadata": {},
     "output_type": "execute_result"
    },
    {
     "data": {
      "image/png": "[encoded data removed]",
      "text/plain": [
       "<Figure size 640x480 with 2 Axes>"
      ]
     },
     "metadata": {},
     "output_type": "display_data"
    }
   ],
   "source": [
    "best_rf2_model = random_search_rf2.best_estimator_\n",
    "\n",
    "y_pred4 = best_rf2_model.predict(X_val_2)  # Replace with your validation/test dataset\n",
    "y_true4 = y_val_2  # Replace with your true labels for validation/test\n",
    "\n",
    "cm = confusion_matrix(y_true4, y_pred4)\n",
    "\n",
    "# Step 4: Display the confusion matrix\n",
    "disp = ConfusionMatrixDisplay(confusion_matrix=cm, display_labels=best_rf2_model.classes_)\n",
    "disp.plot(cmap=\"Blues\", values_format='d')"
   ]
  },
  {
   "cell_type": "markdown",
   "metadata": {},
   "source": [
    "**CONCLUSION**: Random Forest with undersampling showed a small but consistent improvement in detecting the minority class and slightly improved generalization (Validation Score: 0.5751).\n",
    "Unlike Logistic Regression, the Random Forest model benefited more from undersampling, likely due to its ability to handle resampled data more effectively."
   ]
  },
  {
   "cell_type": "markdown",
   "metadata": {},
   "source": [
    "### 2.3.3 XGBoost"
   ]
  },
  {
   "cell_type": "code",
   "execution_count": 66,
   "metadata": {},
   "outputs": [
    {
     "name": "stdout",
     "output_type": "stream",
     "text": [
      "Fitting 1 folds for each of 50 candidates, totalling 50 fits\n",
      "Best Parameters: {'subsample': 0.6, 'reg_lambda': 1.5, 'reg_alpha': 0.1, 'n_estimators': 20, 'min_child_weight': 1, 'max_depth': 4, 'learning_rate': 0.2, 'gamma': 0.2, 'colsample_bytree': 1.0}\n",
      "Best Validation (Test) Score: 0.5234204073772063\n",
      "Training F1 Score from CV Results: 0.5465196817977738\n"
     ]
    }
   ],
   "source": [
    "xgb1 = XGBClassifier(random_state=42, eval_metric='logloss')\n",
    "\n",
    "param_distributions_xgb1 = {\n",
    "    'n_estimators': [10, 15, 20],\n",
    "    'learning_rate': [0.01, 0.05, 0.1, 0.2],\n",
    "    'max_depth': [1,2,3,4,5],\n",
    "    'min_child_weight': [1, 3, 5],\n",
    "    'subsample': [0.6, 0.8, 1.0],\n",
    "    'colsample_bytree': [0.6, 0.8, 1.0],\n",
    "    'gamma': [0, 0.1, 0.2],\n",
    "    'reg_alpha': [0, 0.1, 0.5],\n",
    "    'reg_lambda': [0.5, 1, 1.5]\n",
    "}\n",
    "\n",
    "random_search_xgb1 = RandomizedSearchCV(\n",
    "    xgb1, \n",
    "    param_distributions_xgb1, \n",
    "    n_iter=50, \n",
    "    scoring='f1_macro', \n",
    "    cv=ps, \n",
    "    random_state=42, \n",
    "    verbose = 1,\n",
    "    n_jobs=-1,\n",
    "    return_train_score=True\n",
    ")\n",
    "\n",
    "# Step 4: Fit the random search\n",
    "random_search_xgb1.fit(X_combined_2, y_combined_2)\n",
    "\n",
    "# Step 6: Print the best parameters and scores\n",
    "print(\"Best Parameters:\", random_search_xgb1.best_params_)\n",
    "print(\"Best Validation (Test) Score:\", random_search_xgb1.best_score_)\n",
    "\n",
    "results_df_5 = pd.DataFrame(random_search_xgb1.cv_results_)\n",
    "train_score_best_model_xgb1 = results_df_5.loc[results_df_5['rank_test_score'] == 1, 'mean_train_score'].values[0]\n",
    "\n",
    "print(\"Training F1 Score from CV Results:\", train_score_best_model_xgb1)\n",
    "\n"
   ]
  },
  {
   "cell_type": "code",
   "execution_count": 81,
   "metadata": {},
   "outputs": [
    {
     "data": {
      "text/plain": [
       "<sklearn.metrics._plot.confusion_matrix.ConfusionMatrixDisplay at 0x120b50830>"
      ]
     },
     "execution_count": 81,
     "metadata": {},
     "output_type": "execute_result"
    },
    {
     "data": {
      "image/png": "[encoded data removed]",
      "text/plain": [
       "<Figure size 640x480 with 2 Axes>"
      ]
     },
     "metadata": {},
     "output_type": "display_data"
    }
   ],
   "source": [
    "best_xgb1_model = random_search_xgb1.best_estimator_\n",
    "\n",
    "y_pred5 = best_xgb1_model.predict(X_val_2)  # Replace with your validation/test dataset\n",
    "y_true5 = y_val_2  # Replace with your true labels for validation/test\n",
    "\n",
    "cm = confusion_matrix(y_true5, y_pred5)\n",
    "\n",
    "# Step 4: Display the confusion matrix\n",
    "disp = ConfusionMatrixDisplay(confusion_matrix=cm, display_labels=best_xgb1_model.classes_)\n",
    "disp.plot(cmap=\"Blues\", values_format='d')"
   ]
  },
  {
   "cell_type": "code",
   "execution_count": 67,
   "metadata": {},
   "outputs": [
    {
     "name": "stdout",
     "output_type": "stream",
     "text": [
      "Fitting 1 folds for each of 50 candidates, totalling 50 fits\n",
      "Best Parameters: {'subsample': 0.6, 'reg_lambda': 1.5, 'reg_alpha': 0.1, 'n_estimators': 20, 'min_child_weight': 1, 'max_depth': 4, 'learning_rate': 0.2, 'gamma': 0.2, 'colsample_bytree': 1.0}\n",
      "Best Validation (Test) Score: 0.5364718142556847\n",
      "Training F1 Score from CV Results: 0.5761527995208066\n"
     ]
    }
   ],
   "source": [
    "xgb2 = XGBClassifier(random_state=42, eval_metric='logloss')\n",
    "\n",
    "param_distributions_xgb2 = {\n",
    "    'n_estimators': [10, 15, 20],\n",
    "    'learning_rate': [0.01, 0.05, 0.1, 0.2],\n",
    "    'max_depth': [1,2,3,4,5],\n",
    "    'min_child_weight': [1, 3, 5],\n",
    "    'subsample': [0.6, 0.8, 1.0],\n",
    "    'colsample_bytree': [0.6, 0.8, 1.0],\n",
    "    'gamma': [0, 0.1, 0.2],\n",
    "    'reg_alpha': [0, 0.1, 0.5],\n",
    "    'reg_lambda': [0.5, 1, 1.5]\n",
    "}\n",
    "\n",
    "random_search_xgb2 = RandomizedSearchCV(\n",
    "    xgb2, \n",
    "    param_distributions_xgb2, \n",
    "    n_iter=50, \n",
    "    scoring='f1_macro', \n",
    "    cv=ps, \n",
    "    random_state=42, \n",
    "    verbose = 1,\n",
    "    n_jobs=-1,\n",
    "    return_train_score=True\n",
    ")\n",
    "\n",
    "# Step 4: Fit the random search\n",
    "random_search_xgb2.fit(X_combined_resampled_2, y_combined_resampled_2)\n",
    "\n",
    "# Step 6: Print the best parameters and scores\n",
    "print(\"Best Parameters:\", random_search_xgb2.best_params_)\n",
    "print(\"Best Validation (Test) Score:\", random_search_xgb2.best_score_)\n",
    "\n",
    "results_df_6 = pd.DataFrame(random_search_xgb2.cv_results_)\n",
    "train_score_best_model_xgb2 = results_df_6.loc[results_df_6['rank_test_score'] == 1, 'mean_train_score'].values[0]\n",
    "\n",
    "print(\"Training F1 Score from CV Results:\", train_score_best_model_xgb2)\n"
   ]
  },
  {
   "cell_type": "code",
   "execution_count": 82,
   "metadata": {},
   "outputs": [
    {
     "data": {
      "text/plain": [
       "<sklearn.metrics._plot.confusion_matrix.ConfusionMatrixDisplay at 0x1206feb70>"
      ]
     },
     "execution_count": 82,
     "metadata": {},
     "output_type": "execute_result"
    },
    {
     "data": {
      "image/png": "[encoded data removed]",
      "text/plain": [
       "<Figure size 640x480 with 2 Axes>"
      ]
     },
     "metadata": {},
     "output_type": "display_data"
    }
   ],
   "source": [
    "best_xgb2_model = random_search_xgb2.best_estimator_\n",
    "\n",
    "y_pred5 = best_xgb2_model.predict(X_val_2)  # Replace with your validation/test dataset\n",
    "y_true5 = y_val_2  # Replace with your true labels for validation/test\n",
    "\n",
    "cm = confusion_matrix(y_true5, y_pred5)\n",
    "\n",
    "# Step 4: Display the confusion matrix\n",
    "disp = ConfusionMatrixDisplay(confusion_matrix=cm, display_labels=best_xgb2_model.classes_)\n",
    "disp.plot(cmap=\"Blues\", values_format='d')"
   ]
  },
  {
   "cell_type": "markdown",
   "metadata": {},
   "source": [
    "**CONCLUSIONS**: XGBoost with undersampling performed better on both training and validation datasets compared to without undersampling.\n",
    "The combination of XGBoost and undersampling appears to be more effective in handling class imbalance."
   ]
  },
  {
   "cell_type": "markdown",
   "metadata": {},
   "source": [
    "### 2.3.4 Perceptron"
   ]
  },
  {
   "cell_type": "code",
   "execution_count": 84,
   "metadata": {},
   "outputs": [
    {
     "name": "stdout",
     "output_type": "stream",
     "text": [
      "Fitting 1 folds for each of 50 candidates, totalling 50 fits\n",
      "Best Parameters: {'penalty': 'l1', 'max_iter': 2000, 'fit_intercept': True, 'eta0': 1, 'alpha': 0.0001}\n",
      "Best Validation (Test) Score: 0.5987628712038977\n",
      "Training F1 Score from CV Results: 0.5958808100829355\n"
     ]
    }
   ],
   "source": [
    "perceptron1 = Perceptron(random_state=42)\n",
    "\n",
    "param_distributions_perceptron1= {\n",
    "    'penalty': [None, 'l2', 'l1', 'elasticnet'],\n",
    "    'alpha': [0.0001, 0.001, 0.01, 0.1],\n",
    "    'max_iter': [1000, 2000, 3000],\n",
    "    'eta0': [0.001, 0.01, 0.1, 1],\n",
    "    'fit_intercept': [True, False]\n",
    "}\n",
    "\n",
    "random_search_p1 = RandomizedSearchCV(\n",
    "    perceptron1, \n",
    "    param_distributions_perceptron1, \n",
    "    n_iter=50, \n",
    "    scoring='f1_macro', \n",
    "    cv=ps, \n",
    "    random_state=42, \n",
    "    verbose = 1,\n",
    "    n_jobs=-1,\n",
    "    return_train_score=True\n",
    ")\n",
    "\n",
    "# Step 4: Fit the random search\n",
    "random_search_p1.fit(X_combined_2, y_combined_2)\n",
    "\n",
    "# Step 6: Print the best parameters and scores\n",
    "print(\"Best Parameters:\", random_search_p1.best_params_)\n",
    "print(\"Best Validation (Test) Score:\", random_search_p1.best_score_)\n",
    "\n",
    "results_df_7 = pd.DataFrame(random_search_p1.cv_results_)\n",
    "train_score_best_model_p1 = results_df_7.loc[results_df_7['rank_test_score'] == 1, 'mean_train_score'].values[0]\n",
    "\n",
    "print(\"Training F1 Score from CV Results:\", train_score_best_model_p1)"
   ]
  },
  {
   "cell_type": "code",
   "execution_count": 85,
   "metadata": {},
   "outputs": [
    {
     "data": {
      "text/plain": [
       "<sklearn.metrics._plot.confusion_matrix.ConfusionMatrixDisplay at 0x1209d6f00>"
      ]
     },
     "execution_count": 85,
     "metadata": {},
     "output_type": "execute_result"
    },
    {
     "data": {
      "image/png": "[encoded data removed]",
      "text/plain": [
       "<Figure size 640x480 with 2 Axes>"
      ]
     },
     "metadata": {},
     "output_type": "display_data"
    }
   ],
   "source": [
    "best_p1_model = random_search_p1.best_estimator_\n",
    "\n",
    "y_pred6 = best_p1_model.predict(X_val_2)  # Replace with your validation/test dataset\n",
    "y_true6 = y_val_2  # Replace with your true labels for validation/test\n",
    "\n",
    "cm = confusion_matrix(y_true6, y_pred6)\n",
    "\n",
    "# Step 4: Display the confusion matrix\n",
    "disp = ConfusionMatrixDisplay(confusion_matrix=cm, display_labels=best_p1_model.classes_)\n",
    "disp.plot(cmap=\"Blues\", values_format='d')"
   ]
  },
  {
   "cell_type": "code",
   "execution_count": 86,
   "metadata": {},
   "outputs": [
    {
     "name": "stdout",
     "output_type": "stream",
     "text": [
      "Fitting 1 folds for each of 50 candidates, totalling 50 fits\n",
      "Best Parameters: {'penalty': 'l2', 'max_iter': 2000, 'fit_intercept': False, 'eta0': 0.01, 'alpha': 0.001}\n",
      "Best Validation (Test) Score: 0.5984859013288721\n",
      "Training F1 Score from CV Results: 0.5647957792121421\n"
     ]
    }
   ],
   "source": [
    "perceptron2 = Perceptron(random_state=42)\n",
    "\n",
    "param_distributions_perceptron2 = {\n",
    "    'penalty': [None, 'l2', 'l1', 'elasticnet'],\n",
    "    'alpha': [0.0001, 0.001, 0.01, 0.1],\n",
    "    'max_iter': [1000, 2000, 3000],\n",
    "    'eta0': [0.001, 0.01, 0.1, 1],\n",
    "    'fit_intercept': [True, False]\n",
    "}\n",
    "\n",
    "random_search_p2 = RandomizedSearchCV(\n",
    "    perceptron2, \n",
    "    param_distributions_perceptron2, \n",
    "    n_iter=50, \n",
    "    scoring='f1_macro', \n",
    "    cv=ps, \n",
    "    random_state=42, \n",
    "    verbose = 1,\n",
    "    n_jobs=-1,\n",
    "    return_train_score=True\n",
    ")\n",
    "\n",
    "# Step 4: Fit the random search\n",
    "random_search_p2.fit(X_combined_resampled_2, y_combined_resampled_2)\n",
    "\n",
    "# Step 6: Print the best parameters and scores\n",
    "print(\"Best Parameters:\", random_search_p2.best_params_)\n",
    "print(\"Best Validation (Test) Score:\", random_search_p2.best_score_)\n",
    "\n",
    "results_df_8 = pd.DataFrame(random_search_p2.cv_results_)\n",
    "train_score_best_model_p2 = results_df_8.loc[results_df_8['rank_test_score'] == 1, 'mean_train_score'].values[0]\n",
    "\n",
    "print(\"Training F1 Score from CV Results:\", train_score_best_model_p2)"
   ]
  },
  {
   "cell_type": "code",
   "execution_count": 87,
   "metadata": {},
   "outputs": [
    {
     "data": {
      "text/plain": [
       "<sklearn.metrics._plot.confusion_matrix.ConfusionMatrixDisplay at 0x120a7ad80>"
      ]
     },
     "execution_count": 87,
     "metadata": {},
     "output_type": "execute_result"
    },
    {
     "data": {
      "image/png": "[encoded data removed]",
      "text/plain": [
       "<Figure size 640x480 with 2 Axes>"
      ]
     },
     "metadata": {},
     "output_type": "display_data"
    }
   ],
   "source": [
    "best_p2_model = random_search_p2.best_estimator_\n",
    "\n",
    "y_pred7 = best_p2_model.predict(X_val_2)  # Replace with your validation/test dataset\n",
    "y_true7 = y_val_2  # Replace with your true labels for validation/test\n",
    "\n",
    "cm = confusion_matrix(y_true7, y_pred7)\n",
    "\n",
    "# Step 4: Display the confusion matrix\n",
    "disp = ConfusionMatrixDisplay(confusion_matrix=cm, display_labels=best_p2_model.classes_)\n",
    "disp.plot(cmap=\"Blues\", values_format='d')"
   ]
  },
  {
   "cell_type": "markdown",
   "metadata": {},
   "source": [
    "**CONCLUSIONS**: Perceptron without undersampling fits the training data better and achieves a slightly higher validation score.\n",
    "Despite this, with undersampling, the model improved its ability to detect the minority class but at the cost of precision (increased False Positives)."
   ]
  },
  {
   "cell_type": "markdown",
   "metadata": {},
   "source": [
    "### 2.3.5 Neural Networks - Multilayer Perceptron"
   ]
  },
  {
   "cell_type": "code",
   "execution_count": 89,
   "metadata": {},
   "outputs": [
    {
     "name": "stdout",
     "output_type": "stream",
     "text": [
      "Fitting 1 folds for each of 50 candidates, totalling 50 fits\n",
      "Best Parameters: {'solver': 'adam', 'max_iter': 200, 'learning_rate': 'constant', 'hidden_layer_sizes': (50, 50, 50), 'alpha': 0.0001, 'activation': 'logistic'}\n",
      "Best Validation (Test) Score: 0.59021484326279\n",
      "Training F1 Score from CV Results: 0.5803978466279804\n"
     ]
    }
   ],
   "source": [
    "mlp1 = MLPClassifier(random_state=42)\n",
    "\n",
    "# Hyperparameter grid\n",
    "param_distributions_mlp1 = {\n",
    "    'hidden_layer_sizes': [(50,), (100,), (100, 50), (50, 50, 50)],\n",
    "    'activation': ['tanh', 'relu', 'logistic'],\n",
    "    'solver': ['sgd', 'adam'],\n",
    "    'alpha': [0.0001, 0.001, 0.01],\n",
    "    'learning_rate': ['constant', 'adaptive'],\n",
    "    'max_iter': [200, 400, 800]\n",
    "}\n",
    "\n",
    "random_search_mlp1 = RandomizedSearchCV(\n",
    "    mlp1, \n",
    "    param_distributions_mlp1, \n",
    "    n_iter=50, \n",
    "    scoring='f1_macro', \n",
    "    cv=ps, \n",
    "    random_state=42, \n",
    "    verbose = 1,\n",
    "    n_jobs=-1,\n",
    "    return_train_score=True\n",
    ")\n",
    "\n",
    "# Step 4: Fit the random search\n",
    "random_search_mlp1.fit(X_combined_2, y_combined_2)\n",
    "\n",
    "# Step 6: Print the best parameters and scores\n",
    "print(\"Best Parameters:\", random_search_mlp1.best_params_)\n",
    "print(\"Best Validation (Test) Score:\", random_search_mlp1.best_score_)\n",
    "\n",
    "results_df_9 = pd.DataFrame(random_search_mlp1.cv_results_)\n",
    "train_score_best_model_mlp1 = results_df_9.loc[results_df_9['rank_test_score'] == 1, 'mean_train_score'].values[0]\n",
    "\n",
    "print(\"Training F1 Score from CV Results:\", train_score_best_model_mlp1)\n"
   ]
  },
  {
   "cell_type": "code",
   "execution_count": 90,
   "metadata": {},
   "outputs": [
    {
     "data": {
      "text/plain": [
       "<sklearn.metrics._plot.confusion_matrix.ConfusionMatrixDisplay at 0x120de44a0>"
      ]
     },
     "execution_count": 90,
     "metadata": {},
     "output_type": "execute_result"
    },
    {
     "data": {
      "image/png": "[encoded data removed]",
      "text/plain": [
       "<Figure size 640x480 with 2 Axes>"
      ]
     },
     "metadata": {},
     "output_type": "display_data"
    }
   ],
   "source": [
    "best_mlp1_model = random_search_mlp1.best_estimator_\n",
    "\n",
    "y_pred8 = best_mlp1_model.predict(X_val_2)  # Replace with your validation/test dataset\n",
    "y_true8 = y_val_2  # Replace with your true labels for validation/test\n",
    "\n",
    "cm = confusion_matrix(y_true8, y_pred8)\n",
    "\n",
    "# Step 4: Display the confusion matrix\n",
    "disp = ConfusionMatrixDisplay(confusion_matrix=cm, display_labels=best_mlp1_model.classes_)\n",
    "disp.plot(cmap=\"Blues\", values_format='d')"
   ]
  },
  {
   "cell_type": "code",
   "execution_count": 64,
   "metadata": {},
   "outputs": [
    {
     "name": "stdout",
     "output_type": "stream",
     "text": [
      "Fitting 1 folds for each of 50 candidates, totalling 50 fits\n",
      "Best Parameters: {'solver': 'adam', 'max_iter': 200, 'learning_rate': 'constant', 'hidden_layer_sizes': (100,), 'alpha': 0.0001, 'activation': 'relu'}\n",
      "Best Validation (Test) Score: 0.5692850489027248\n",
      "Training F1 Score from CV Results: 0.5977764181436785\n"
     ]
    }
   ],
   "source": [
    "mlp2 = MLPClassifier(random_state=42)\n",
    "\n",
    "# Hyperparameter grid\n",
    "param_distributions_mlp2 = {\n",
    "    'hidden_layer_sizes': [(50,), (100,), (100, 50), (50, 50, 50)],\n",
    "    'activation': ['tanh', 'relu', 'logistic'],\n",
    "    'solver': ['sgd', 'adam'],\n",
    "    'alpha': [0.0001, 0.001, 0.01],\n",
    "    'learning_rate': ['constant', 'adaptive'],\n",
    "    'max_iter': [200, 400, 800]\n",
    "}\n",
    "\n",
    "random_search_mlp2 = RandomizedSearchCV(\n",
    "    mlp2, \n",
    "    param_distributions_mlp2, \n",
    "    n_iter=50, \n",
    "    scoring='f1_macro', \n",
    "    cv=ps, \n",
    "    random_state=42, \n",
    "    verbose = 1,\n",
    "    n_jobs=-1,\n",
    "    return_train_score=True\n",
    ")\n",
    "\n",
    "# Step 4: Fit the random search\n",
    "random_search_mlp2 .fit(X_combined_resampled_2, y_combined_resampled_2)\n",
    "\n",
    "# Step 6: Print the best parameters and scores\n",
    "print(\"Best Parameters:\", random_search_mlp2 .best_params_)\n",
    "print(\"Best Validation (Test) Score:\", random_search_mlp2 .best_score_)\n",
    "\n",
    "results_df_10 = pd.DataFrame(random_search_mlp2.cv_results_)\n",
    "train_score_best_model_mlp2 = results_df_10.loc[results_df_10['rank_test_score'] == 1, 'mean_train_score'].values[0]\n",
    "\n",
    "print(\"Training F1 Score from CV Results:\", train_score_best_model_mlp2)\n"
   ]
  },
  {
   "cell_type": "code",
   "execution_count": 91,
   "metadata": {},
   "outputs": [
    {
     "data": {
      "text/plain": [
       "<sklearn.metrics._plot.confusion_matrix.ConfusionMatrixDisplay at 0x120d20320>"
      ]
     },
     "execution_count": 91,
     "metadata": {},
     "output_type": "execute_result"
    },
    {
     "data": {
      "image/png": "[encoded data removed]",
      "text/plain": [
       "<Figure size 640x480 with 2 Axes>"
      ]
     },
     "metadata": {},
     "output_type": "display_data"
    }
   ],
   "source": [
    "best_mlp2_model = random_search_mlp2.best_estimator_\n",
    "\n",
    "y_pred9 = best_mlp2_model.predict(X_val_2)  # Replace with your validation/test dataset\n",
    "y_true9 = y_val_2  # Replace with your true labels for validation/test\n",
    "\n",
    "cm = confusion_matrix(y_true9, y_pred9)\n",
    "\n",
    "# Step 4: Display the confusion matrix\n",
    "disp = ConfusionMatrixDisplay(confusion_matrix=cm, display_labels=best_mlp2_model.classes_)\n",
    "disp.plot(cmap=\"Blues\", values_format='d')"
   ]
  },
  {
   "cell_type": "markdown",
   "metadata": {},
   "source": [
    "**CONCLUSIONS**: Without undersampling, the model generalizes better, achieving a higher validation score (0.5902) despite lower True Positive detection.\n",
    "With undersampling, the model improves its recall on the minority class but overfits the training data, as indicated by the drop in Validation Score."
   ]
  },
  {
   "cell_type": "markdown",
   "metadata": {},
   "source": [
    "IMPACT OF UNDER-SAMPLING:\n",
    "- Logistic Regression: Marginal improvement in minority detection (TP: 87 → 94).\n",
    "- Random Forest: Improved slightly in minority class detection (TP: 6718 → 6750).\n",
    "- XGBoost: Improvement in both recall and overall F1 Score (TP: 438 → 459).\n",
    "- Perceptron: Drastic increase in recall but at the cost of many False Positives.\n",
    "- MLP: Better recall on minority class but worsened generalization. <br> <br>\n",
    "\n",
    "VALIDATION-SCORE:\n",
    "- Improved slightly for models that can handle class imbalance wel (Random Forest and XGBoost).\n",
    "- Decreased for models like MLP and Perceptron, what suggests overfitting after removing borderline samples."
   ]
  }
 ],
 "metadata": {
  "kernelspec": {
   "display_name": "base",
   "language": "python",
   "name": "python3"
  },
  "language_info": {
   "codemirror_mode": {
    "name": "ipython",
    "version": 3
   },
   "file_extension": ".py",
   "mimetype": "text/x-python",
   "name": "python",
   "nbconvert_exporter": "python",
   "pygments_lexer": "ipython3",
   "version": "3.12.8"
  }
 },
 "nbformat": 4,
 "nbformat_minor": 2
}
